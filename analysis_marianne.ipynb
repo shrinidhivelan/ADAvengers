{
 "cells": [
  {
   "cell_type": "markdown",
   "id": "579b567a-2b80-4bf1-8cc1-c514da76ca50",
   "metadata": {},
   "source": [
    "# (ADA) Homework 1: Scoring the Language Model Olympics\n",
    "\n",
    "---\n",
    "\n",
    "By the end of this homework, we expect you to be able to:\n",
    "\n",
    "- Load data and handle data using pandas;\n",
    "- Navigate the documentation of Python packages by yourself;\n",
    "- Filter and tidy up noisy real-world datasets;\n",
    "- Aggregate your data in different (and hopefully helpful) ways;\n",
    "- Create meaningful visualizations to analyze the data;\n",
    "- Communicate your findings in a clear and concise manner\n",
    "\n",
    "---\n",
    "\n",
    "**Important Dates.**\n",
    "\n",
    "- Homework release: Fri 04 Oct 2024\n",
    "- Homework due: Sat 18 Oct 2024, 23:59\n",
    "- Grade release: Mon 04 Nov 2024\n",
    "\n",
    "**Some rules**\n",
    "\n",
    "- You are allowed to use any built-in Python library that comes with Anaconda. If you want to use an external library, you may do so, but must justify your choice.\n",
    "- Make sure you use the data folder provided in the repository in read-only mode. (Or alternatively, be sure you don’t change any of the files.)\n",
    "- Be sure to provide a concise textual description of your thought process, the assumptions you made, the solution you implemented, and explanations for your answers. A notebook that only has code cells will not suffice. To avoid confusion: use short comments for longer code answers.\n",
    "- For questions containing the /Discuss:/ prefix, answer not with code, but with a textual explanation (in markdown).\n",
    "- Back up any hypotheses and claims with data, since this is an important aspect of the course.\n",
    "- Please write all your comments in English, and use meaningful variable names in your code. Your repo should have a single notebook (plus the required data files) in the master/main branch. If there are multiple notebooks present, we will not grade anything.\n",
    "- We will not run your notebook for you! Rather, we will grade it as is, which means that only the results contained in your evaluated code cells will be considered, and we will not see the results in unevaluated code cells. Thus, be sure to hand in a fully-run and evaluated notebook. In order to check whether everything looks as intended, you can check the rendered notebook on the GitHub website once you have pushed your solution there.\n",
    "- In continuation to the previous point, interactive plots, such as those generated using the ‘plotly’ package, should be strictly avoided! Make sure to print results and/or dataframes that confirm you have properly addressed the task.\n",
    "\n",
    "**A Note on using Language Models (LMs)**\n",
    "\n",
    "If you try hard enough, you will likely get away with cheating. Fortunately, our job is not to police, but rather to educate! So, please consider the following:\n",
    "- Presumably, you are taking this course to learn something! LMs are not always right ([they often fail in silly ways](https://community.openai.com/t/why-9-11-is-larger-than-9-9-incredible/869824/4)). This course should prepare you to detect when they are wrong!\n",
    "- Some of the TAs on this course literally published many works on detecting machine-generated text.\n",
    "---"
   ]
  },
  {
   "cell_type": "markdown",
   "id": "4f85896e-c0ae-4ae3-af41-46149faa2278",
   "metadata": {},
   "source": [
    "## Context\n",
    "\n",
    "Context\n",
    "AI is booming! Newspapers, influencers, and your relatives all agree that AI is important. But while almost everyone agrees that AI is the future, much is unclear about what that future looks like…\n",
    "\n",
    "Freshly graduated from the EPFL, you are hired by the Swiss government to advise on a large-scale “AI integration” initiative code-named **\"NEUTRALITY\"** (Navigating Efficient Upgrades Through Robust Artificial Learning Integration Techniques Yearly). Convinced by the stunning progress in language modeling, the government would like to battle the growing shortages in the education sector by using LMs. Your job description: investigate which LMs might be best suited!\n",
    "\n",
    "You are given the results of three LMs on the [“Massive Multitask Language Understanding (MMLU)”](https://arxiv.org/abs/2009.03300) dataset to compare. This famous dataset consists of 57 subjects with multiple-choice questions, covering diverse subjects like mathematics, computer science, history, and law. Most providers of state-of-the-art LMs use this dataset to showcase the versatility of their latest models. Unfortunately, Horta-Ribeiro, the intern responsible for collecting the results, didn’t take EPFL’s famous ADA course. As a result, the collected datasets are slightly corrupted.\n",
    "\n",
    "### A very brief primer on Language Models\n",
    "Language models (LMs) are sophisticated statistical models designed to understand and generate human-like text. At their core, LMs are trained to predict the most likely continuation of a given input text. For example, given the input \"The cat sat on the,\" an LM might predict \"mat\" as a likely continuation.\n",
    "LMs are trained on vast text samples from various sources, including books, websites, and social media. This extensive training allows them to capture patterns and relationships in language, enabling them to generate coherent and contextually appropriate text across a wide range of topics and styles.\n",
    "\n",
    "While LMs can produce text that appears to be written by intelligent humans, it's important to note that their capabilities can diverge from human intelligence in unexpected ways. They may sometimes generate factually incorrect information or struggle with complex reasoning tasks.\n",
    "\n",
    "Two key concepts in understanding LMs are:\n",
    "1. **Tokens**: LMs process text using \"tokens\" rather than individual characters. Tokens can be words, parts of words, or punctuation marks. For example, the sentence \"I love AI!\" might be tokenized as [\"I\", \"love\", \"AI\", \"!\"]. Tokenization is the first step in both training and using an LM.\n",
    "2. **Context**: The input text provided to an LM is called the \"context.\" This context informs the model's predictions or generations. A longer or more specific context often leads to more accurate and relevant outputs.\n",
    "\n",
    "[See: Wikipedia entry on language models](https://en.wikipedia.org/wiki/Large_language_model)\n",
    "\n",
    "###  Files for this assignment\n",
    "This assignment is divided into three tasks, each of which should bring you a step closer to providing a recommendation toward project NEUTRALITY’s objectives:\n",
    "\n",
    "- **Task 1**: Inspecting the results and getting your first model ranking\n",
    "- **Task 2**: Inspecting the underlying data used to generate the results for possible biases\n",
    "- **Task 3**: Learning about tokens and providing a final recommendation\n",
    "\n",
    "\n",
    "```\n",
    "📁 PROJECT_NEUTRALITY\n",
    "│\n",
    "├── 📄 analysis.ipynb (the file you're currently reading!)\n",
    "├── 📄 requirements.txt (install into your environment)\n",
    "│\n",
    "├── 📁 task_1\n",
    "├── 📁 task_2\n",
    "└── 📁 task_2.5\n",
    "```   \n",
    " "
   ]
  },
  {
   "cell_type": "code",
   "execution_count": 2,
   "id": "95ce4c12-9681-401e-9489-aa0765b19d5d",
   "metadata": {},
   "outputs": [],
   "source": [
    "# please make sure you install the packages listed in the requirements.txt file in your environment!\n",
    "# using pip\n",
    "# pip install -r requirements.txt\n",
    "#\n",
    "# using Conda:\n",
    "# conda create --name <env_name> --file requirements.txt\n",
    "#\n",
    "# some basic imports\n",
    "import os\n",
    "import pandas as pd\n",
    "import numpy as np\n",
    "import matplotlib.pyplot as plt\n",
    "import warnings\n",
    "from scipy.stats import ttest_ind"
   ]
  },
  {
   "cell_type": "markdown",
   "id": "e62594ad-4f5f-4a46-80bc-deacf66b62e9",
   "metadata": {},
   "source": [
    "## Task 1 (18 points): What's in an average anyway?\n",
    "\n",
    "The files needed to complete task 1 can be found in the folder \"`data/task_1/`:\n",
    "```\n",
    "task_1/\n",
    "│\n",
    "├── mmlu_data/\n",
    "│   └── test.csv\n",
    "│\n",
    "└── lm_scores/\n",
    "    ├── lm_X.csv\n",
    "    ├── lm_Y.csv\n",
    "    └── lm_Z.csv\n",
    "```\n",
    "\n",
    "We will start by loading, (manually) inspecting, and cleaning the data. Although it doesn't seem \"glamorous\" (nor is it particularly fun...) - manually inspecting data is extremely important! In fact, it's one of the few things most AI and Data Science researchers agree on :). Next, we will take a first pass on ordering our Olympic podium between three LMs."
   ]
  },
  {
   "cell_type": "markdown",
   "id": "f8605646-79fa-4cb3-8137-b6951bd1e064",
   "metadata": {},
   "source": [
    "### 1.1 (1 pt)\n",
    " \n",
    "Load the subfiles contained in the `mmlu_data` and `lm_scores` folders into separate dataframes:\n",
    "- `df_test`\n",
    "- `df_x`\n",
    "- `df_y`\n",
    "- `df_z`\n",
    "\n",
    "for each, print their sizes."
   ]
  },
  {
   "cell_type": "code",
   "execution_count": 156,
   "id": "e6ce5e96-7de6-463d-a00b-6a4b2cfc8cb3",
   "metadata": {},
   "outputs": [
    {
     "name": "stdout",
     "output_type": "stream",
     "text": [
      "The size of the df_test is: 14042\n",
      "The size of the df_x is: 13882\n",
      "The size of the df_y is: 13978\n",
      "The size of the df_z is: 13923\n"
     ]
    }
   ],
   "source": [
    "df_test = pd.read_csv(\"task_1/mmlu_data/test.csv\")\n",
    "df_x = pd.read_csv(\"task_1/lm_scores/lm_X.csv\")\n",
    "df_y = pd.read_csv(\"task_1/lm_scores/lm_Y.csv\")\n",
    "df_z = pd.read_csv(\"task_1/lm_scores/lm_Z.csv\")\n",
    "print(f\"The size of the df_test is: {len(df_test)}\")\n",
    "print(f\"The size of the df_x is: {len(df_x)}\")\n",
    "print(f\"The size of the df_y is: {len(df_y)}\")\n",
    "print(f\"The size of the df_z is: {len(df_z)}\")"
   ]
  },
  {
   "cell_type": "markdown",
   "id": "acbda57d-7df2-4e33-b31c-52bc0af6753e",
   "metadata": {},
   "source": [
    "### 1.2 (4 pt)\n",
    "Unfortunately, LMs don't always output the format we want. In the column `result`, the value should be one of A, B, C, or D. \n",
    "\n",
    "A. For each of the LM score dataframes, use a `value_counts()` operation and print the results. \n",
    "\n",
    "B. /Discuss:/ Inspect the results and describe the types of answer formats you see. Besides the \"expected\" case, you should be able to find at least four unexpected formats."
   ]
  },
  {
   "cell_type": "code",
   "execution_count": 15,
   "id": "79936f23",
   "metadata": {},
   "outputs": [
    {
     "name": "stdout",
     "output_type": "stream",
     "text": [
      "*Value counts of the results of the LM score X dataframe:\n",
      "result\n",
      "A                                                                                                                 2733\n",
      "A                                                                                                                 1657\n",
      "B                                                                                                                 1412\n",
      "Answer: A                                                                                                         1398\n",
      "C                                                                                                                 1134\n",
      "                                                                                                                  ... \n",
      "judicial activism, so the answer is A                                                                                1\n",
      "creating insurmountable obstacles to the founding of factions, so the answer is A                                    1\n",
      "A congressperson who retires to take a position teaching political science at a university, so the answer is A       1\n",
      "David Hume, so the answer is D                                                                                       1\n",
      "Brahminic orthodoxy, so the answer is A                                                                              1\n",
      "Name: count, Length: 145, dtype: int64\n",
      "*Value counts of the results of the LM score Y dataframe:\n",
      "result\n",
      "D                                                                                                2894\n",
      "Answer: D                                                                                        1718\n",
      "C                                                                                                1701\n",
      "B                                                                                                1240\n",
      "D                                                                                                1145\n",
      "                                                                                                 ... \n",
      "Where the energy of interaction between the atoms is at its minimum value, so the answer is A       1\n",
      "leaves more viable offspring than others of its species., so the answer is D                        1\n",
      "A and C only, so the answer is D                                                                    1\n",
      "ADP + P → ATP, so the answer is D                                                                   1\n",
      "Monoclonal antibodies, so the answer is C                                                           1\n",
      "Name: count, Length: 141, dtype: int64\n",
      "*Value counts of the results of the LM score Z dataframe:\n",
      "result\n",
      "D                                                                                   2257\n",
      "C                                                                                   2191\n",
      "B                                                                                   2127\n",
      "A                                                                                   2060\n",
      "Answer: D                                                                            777\n",
      "                                                                                    ... \n",
      "omission of a universal suffrage clause, so the answer is D                            1\n",
      "declare war, so the answer is D                                                        1\n",
      "state and local governments, by means of federal funding, so the answer is B           1\n",
      "less clearly identified with consistent political ideologies, so the answer is B       1\n",
      "Rahit, so the answer is B                                                              1\n",
      "Name: count, Length: 560, dtype: int64\n"
     ]
    }
   ],
   "source": [
    "# A\n",
    "print(\"*Value counts of the results of the LM score X dataframe:\")\n",
    "print(df_x.result.value_counts())\n",
    "\n",
    "print(\"*Value counts of the results of the LM score Y dataframe:\")\n",
    "print(df_y.result.value_counts())\n",
    "\n",
    "print(\"*Value counts of the results of the LM score Z dataframe:\")\n",
    "print(df_z.result.value_counts())"
   ]
  },
  {
   "cell_type": "code",
   "execution_count": 83,
   "id": "620f46cc",
   "metadata": {},
   "outputs": [
    {
     "name": "stdout",
     "output_type": "stream",
     "text": [
      "We can see that there aren't only A,B,C,D results.\n",
      "There are also entire phrases that indicate which result it is rather than jsut giving the letter.\n",
      "There are also cases where there is an extra space and therefore the answer is counted as different.\n",
      "There are also Nan values\n"
     ]
    }
   ],
   "source": [
    "# B\n",
    "print(\"We can see that there aren't only A,B,C,D results.\\nThere are also entire phrases that indicate which result it is rather than jsut giving the letter.\")\n",
    "print(\"There are also cases where there is an extra space and therefore the answer is counted as different.\")\n",
    "print('There are also Nan values')\n",
    "#Not sure, none of the above, A, 'A ', Answer: A"
   ]
  },
  {
   "cell_type": "markdown",
   "id": "88c5551d-1968-427b-bdd6-51d996898e7c",
   "metadata": {},
   "source": [
    "### 1.3 (5 pt)\n",
    "Oh oh... That doesn't look great. Simply dropping all invalid answers seems overly wasteful, yet fixing all of these looks like a mess! Instead, let's focus for now on fixing just those answers of length < 10 characters that require only a single `str.replace()` operation. \n",
    "\n",
    "For example, if the answer looks like `--A--`, we could fix this by using the following simple function:\n",
    "\n",
    "```\n",
    "def clean_answer(s, pattern='-'):\n",
    "    return str(s).replace(pattern, '')\n",
    "\n",
    "dirty_answer = '--A--'\n",
    "clean_answer = clean_answer(dirty_answer)\n",
    "```\n",
    "\n",
    "A. Filter the three score dataframes to include only answers with less than 10 characters. Make a deep copy of the dataframes as you filter them.\n",
    "\n",
    "B. Modify the `clean_answer()` example function to clean the answers in the filtered data frames using the `apply()` functionality. Finally, make sure **all remaining answers are one of `A, B, C, or D`.**\n",
    "\n",
    "C. /Discuss:/ Compare the sizes of the original and filtered data frames. What do you see? Why might this be a problem?"
   ]
  },
  {
   "cell_type": "code",
   "execution_count": 84,
   "id": "e9cd7e75",
   "metadata": {},
   "outputs": [
    {
     "ename": "NameError",
     "evalue": "name 'df_x' is not defined",
     "output_type": "error",
     "traceback": [
      "\u001b[0;31m---------------------------------------------------------------------------\u001b[0m",
      "\u001b[0;31mNameError\u001b[0m                                 Traceback (most recent call last)",
      "Cell \u001b[0;32mIn[84], line 1\u001b[0m\n\u001b[0;32m----> 1\u001b[0m filtered_df_x \u001b[38;5;241m=\u001b[39m df_x[df_x[\u001b[38;5;124m'\u001b[39m\u001b[38;5;124mresult\u001b[39m\u001b[38;5;124m'\u001b[39m]\u001b[38;5;241m.\u001b[39mstr\u001b[38;5;241m.\u001b[39mlen() \u001b[38;5;241m<\u001b[39m \u001b[38;5;241m10\u001b[39m]\u001b[38;5;241m.\u001b[39mcopy(deep\u001b[38;5;241m=\u001b[39m\u001b[38;5;28;01mTrue\u001b[39;00m)\n\u001b[1;32m      2\u001b[0m filtered_df_y \u001b[38;5;241m=\u001b[39m df_y[df_y[\u001b[38;5;124m'\u001b[39m\u001b[38;5;124mresult\u001b[39m\u001b[38;5;124m'\u001b[39m]\u001b[38;5;241m.\u001b[39mstr\u001b[38;5;241m.\u001b[39mlen() \u001b[38;5;241m<\u001b[39m \u001b[38;5;241m10\u001b[39m]\u001b[38;5;241m.\u001b[39mcopy(deep\u001b[38;5;241m=\u001b[39m\u001b[38;5;28;01mTrue\u001b[39;00m)\n\u001b[1;32m      3\u001b[0m filtered_df_z \u001b[38;5;241m=\u001b[39m df_z[df_z[\u001b[38;5;124m'\u001b[39m\u001b[38;5;124mresult\u001b[39m\u001b[38;5;124m'\u001b[39m]\u001b[38;5;241m.\u001b[39mstr\u001b[38;5;241m.\u001b[39mlen() \u001b[38;5;241m<\u001b[39m \u001b[38;5;241m10\u001b[39m]\u001b[38;5;241m.\u001b[39mcopy(deep\u001b[38;5;241m=\u001b[39m\u001b[38;5;28;01mTrue\u001b[39;00m)\n",
      "\u001b[0;31mNameError\u001b[0m: name 'df_x' is not defined"
     ]
    }
   ],
   "source": [
    "filtered_df_x = df_x[df_x['result'].str.len() < 10].copy(deep=True)\n",
    "filtered_df_y = df_y[df_y['result'].str.len() < 10].copy(deep=True)\n",
    "filtered_df_z = df_z[df_z['result'].str.len() < 10].copy(deep=True)"
   ]
  },
  {
   "cell_type": "code",
   "execution_count": null,
   "id": "e744faae",
   "metadata": {},
   "outputs": [],
   "source": [
    "def clean_answer(s):\n",
    "    # Remove the pattern and trim whitespace\n",
    "    letters = [\"A\", \"B\", \"C\", \"D\"]\n",
    "    if (s in letters):\n",
    "        return s\n",
    "    elif (\"Answer\" in s):\n",
    "        cleaned = str(s).replace(\"Answer: \", '')\n",
    "        return cleaned\n",
    "    elif (\"Not\" in s):\n",
    "        return \"\"\n",
    "    else:\n",
    "        cleaned = str(s).replace(\" \", '')\n",
    "        return cleaned\n",
    "    \n"
   ]
  },
  {
   "cell_type": "code",
   "execution_count": 73,
   "id": "aef1f933-20bf-426a-ac9d-a35e273b9bd2",
   "metadata": {},
   "outputs": [],
   "source": [
    "# A\n",
    "#first we find which scores include less than 10 characters and are not nan:\n",
    "x_10_characters = df_x['result'].apply(lambda result: isinstance(result, str) and len(result) < 10)\n",
    "dfx_10_characters = df_x[x_10_characters]\n",
    "\n",
    "filtered_df_x = df_x[df_x['result'].str.len() < 10].copy(deep=True)\n",
    "\n",
    "y_10_characters = df_y['result'].apply(lambda result: isinstance(result, str) and len(result) < 10)\n",
    "dfy_10_characters = df_y[y_10_characters]\n",
    "\n",
    "z_10_characters = df_z['result'].apply(lambda result: isinstance(result, str) and len(result) < 10)\n",
    "dfz_10_characters = df_z[z_10_characters]"
   ]
  },
  {
   "cell_type": "code",
   "execution_count": 110,
   "id": "fd54f296",
   "metadata": {},
   "outputs": [
    {
     "name": "stdout",
     "output_type": "stream",
     "text": [
      "'B'\n",
      "'C'\n",
      "'D'\n",
      "'A'\n",
      "'Not Sure'\n",
      "'Answer: D'\n",
      "'D'\n",
      "'C'\n",
      "'Answer: C'\n",
      "'B'\n",
      "'C '\n",
      "'Answer: A'\n",
      "'A '\n",
      "'D '\n",
      "'A'\n",
      "'Answer: B'\n",
      "'B '\n",
      "'Not Sure'\n",
      "'B'\n",
      "'Answer: B'\n",
      "'C'\n",
      "'B '\n",
      "'Answer: A'\n",
      "'A'\n",
      "'D'\n",
      "'C '\n",
      "'A '\n",
      "'D '\n",
      "'Answer: C'\n",
      "'Not Sure'\n",
      "'Answer: D'\n"
     ]
    }
   ],
   "source": [
    "# B\n",
    "#keep all of the unique results and remove nan values\n",
    "unique_x = dfx_10_characters.result.unique()\n",
    "unique_y = dfy_10_characters.result.unique()\n",
    "unique_z = dfz_10_characters.result.unique()\n",
    "\n",
    "#keep all of the unique results that have less than 10 characters\n",
    "for result in unique_x:\n",
    "    print(f\"'{result}'\")\n",
    "\n",
    "for result in unique_y:\n",
    "    print(f\"'{result}'\")\n",
    "\n",
    "for result in unique_z:\n",
    "    print(f\"'{result}'\")\n",
    "\n",
    "#3 cases: \"A \" and \"Answer: A\" and \"Not Sure\" --> the patterns are ' ' and 'Answer: '\n",
    "def clean_answer(s):\n",
    "    if s.endswith(' '):\n",
    "        return str(s).replace(' ', '')\n",
    "    elif len(s) > 8:\n",
    "        return str(s).replace('Answer: ', '')\n",
    "    else:\n",
    "        return str(s)"
   ]
  },
  {
   "cell_type": "code",
   "execution_count": 111,
   "id": "747cdcbc",
   "metadata": {},
   "outputs": [],
   "source": [
    "#create a copy\n",
    "df_x_cleaned = dfx_10_characters.copy()\n",
    "df_y_cleaned = dfy_10_characters.copy()\n",
    "df_z_cleaned = dfz_10_characters.copy()\n",
    "\n",
    "#apply the clean_answer function\n",
    "df_x_cleaned['result'] = df_x_cleaned['result'].apply(clean_answer)\n",
    "df_y_cleaned['result'] = df_y_cleaned['result'].apply(clean_answer)\n",
    "df_z_cleaned['result'] = df_z_cleaned['result'].apply(clean_answer)"
   ]
  },
  {
   "cell_type": "code",
   "execution_count": 112,
   "id": "40601650",
   "metadata": {},
   "outputs": [],
   "source": [
    "#remove the 'Not Sure'\n",
    "remove_not_sure = df_x_cleaned['result'].apply(lambda result: isinstance(result, str) and result != 'Not Sure')\n",
    "df_x_cleaned = df_x_cleaned[remove_not_sure]\n",
    "\n",
    "remove_not_sure = df_y_cleaned['result'].apply(lambda result: isinstance(result, str) and result != 'Not Sure')\n",
    "df_y_cleaned = df_y_cleaned[remove_not_sure]\n",
    "\n",
    "remove_not_sure = df_z_cleaned['result'].apply(lambda result: isinstance(result, str) and result != 'Not Sure')\n",
    "df_z_cleaned = df_z_cleaned[remove_not_sure]"
   ]
  },
  {
   "cell_type": "code",
   "execution_count": 113,
   "id": "b98580b8",
   "metadata": {},
   "outputs": [
    {
     "name": "stdout",
     "output_type": "stream",
     "text": [
      "['B' 'C' 'D' 'A']\n",
      "['D' 'C' 'B' 'A']\n",
      "['B' 'C' 'A' 'D']\n"
     ]
    }
   ],
   "source": [
    "unique_x = df_x_cleaned.result.unique()\n",
    "print(unique_x)\n",
    "\n",
    "unique_y = df_y_cleaned.result.unique()\n",
    "print(unique_y)\n",
    "\n",
    "unique_z = df_z_cleaned.result.unique()\n",
    "print(unique_z)"
   ]
  },
  {
   "cell_type": "markdown",
   "id": "2415cd9b",
   "metadata": {},
   "source": [
    "C. /Discuss:/"
   ]
  },
  {
   "cell_type": "code",
   "execution_count": 125,
   "id": "b1d9cff6",
   "metadata": {},
   "outputs": [
    {
     "name": "stdout",
     "output_type": "stream",
     "text": [
      "original size v.s final size: \n",
      "x: 13882, 13436 -> 0.968%\n",
      "y: 13978, 13551 -> 0.969%\n",
      "z: 13923, 12753 -> 0.916%\n"
     ]
    }
   ],
   "source": [
    "print(\"original size v.s final size: \")\n",
    "print(f\"x: {len(df_x)}, {len(df_x_cleaned)} -> {(len(df_x_cleaned)/len(df_x)):.3f}%\")\n",
    "print(f\"y: {len(df_y)}, {len(df_y_cleaned)} -> {len(df_y_cleaned)/len(df_y):.3f}%\")\n",
    "print(f\"z: {len(df_z)}, {len(df_z_cleaned)} -> {len(df_z_cleaned)/len(df_z):.3f}%\")"
   ]
  },
  {
   "cell_type": "markdown",
   "id": "8a5b1eb5",
   "metadata": {},
   "source": [
    "We have lost from 4% to 9% of the dataset whilst cleaning it. This might be a problem since it means that we exclude these answers which would have maybe changed a bit the result we will obtain."
   ]
  },
  {
   "cell_type": "markdown",
   "id": "da1cf129-09dd-47b1-9737-2c4d57eb8853",
   "metadata": {},
   "source": [
    "### 1.4 (3 pt)\n",
    "\n",
    "Now that our answer columns are nicely formatted, let's take a look at model performance:\n",
    "\n",
    "A. Both the `MMLU` dataframes and the language model score data frames have the columns `question_id`. For each of the language model score data frames, use an inner join operation with the `df_test` dataframe on the `question_id` column.\n",
    "\n",
    "B. Add a new column to each of the resulting dataframes called `correct`, that checks if the model's answer in `result` is the same as the expected answer in the column `answer`. Then, print the average score of each model."
   ]
  },
  {
   "cell_type": "code",
   "execution_count": 219,
   "id": "e66b36f3-f5a4-4237-9b48-39b21716d7aa",
   "metadata": {},
   "outputs": [
    {
     "data": {
      "text/html": [
       "<div>\n",
       "<style scoped>\n",
       "    .dataframe tbody tr th:only-of-type {\n",
       "        vertical-align: middle;\n",
       "    }\n",
       "\n",
       "    .dataframe tbody tr th {\n",
       "        vertical-align: top;\n",
       "    }\n",
       "\n",
       "    .dataframe thead th {\n",
       "        text-align: right;\n",
       "    }\n",
       "</style>\n",
       "<table border=\"1\" class=\"dataframe\">\n",
       "  <thead>\n",
       "    <tr style=\"text-align: right;\">\n",
       "      <th></th>\n",
       "      <th>question</th>\n",
       "      <th>A</th>\n",
       "      <th>B</th>\n",
       "      <th>C</th>\n",
       "      <th>D</th>\n",
       "      <th>answer</th>\n",
       "      <th>subject</th>\n",
       "      <th>question_id</th>\n",
       "      <th>result</th>\n",
       "    </tr>\n",
       "  </thead>\n",
       "  <tbody>\n",
       "    <tr>\n",
       "      <th>0</th>\n",
       "      <td>Find the degree for the given field extension ...</td>\n",
       "      <td>0</td>\n",
       "      <td>4</td>\n",
       "      <td>2</td>\n",
       "      <td>6</td>\n",
       "      <td>B</td>\n",
       "      <td>abstract algebra</td>\n",
       "      <td>0</td>\n",
       "      <td>B</td>\n",
       "    </tr>\n",
       "    <tr>\n",
       "      <th>1</th>\n",
       "      <td>Let p = (1, 2, 5, 4)(2, 3) in S_5 . Find the i...</td>\n",
       "      <td>8</td>\n",
       "      <td>2</td>\n",
       "      <td>24</td>\n",
       "      <td>120</td>\n",
       "      <td>C</td>\n",
       "      <td>abstract algebra</td>\n",
       "      <td>1</td>\n",
       "      <td>C</td>\n",
       "    </tr>\n",
       "    <tr>\n",
       "      <th>2</th>\n",
       "      <td>Find all zeros in the indicated finite field o...</td>\n",
       "      <td>0</td>\n",
       "      <td>1</td>\n",
       "      <td>0,1</td>\n",
       "      <td>0,4</td>\n",
       "      <td>D</td>\n",
       "      <td>abstract algebra</td>\n",
       "      <td>2</td>\n",
       "      <td>D</td>\n",
       "    </tr>\n",
       "    <tr>\n",
       "      <th>3</th>\n",
       "      <td>Statement 1 | A factor group of a non-Abelian ...</td>\n",
       "      <td>True, True</td>\n",
       "      <td>False, False</td>\n",
       "      <td>True, False</td>\n",
       "      <td>False, True</td>\n",
       "      <td>B</td>\n",
       "      <td>abstract algebra</td>\n",
       "      <td>3</td>\n",
       "      <td>B</td>\n",
       "    </tr>\n",
       "    <tr>\n",
       "      <th>4</th>\n",
       "      <td>Find the product of the given polynomials in t...</td>\n",
       "      <td>2x^2 + 5</td>\n",
       "      <td>6x^2 + 4x + 6</td>\n",
       "      <td>0</td>\n",
       "      <td>x^2 + 1</td>\n",
       "      <td>B</td>\n",
       "      <td>abstract algebra</td>\n",
       "      <td>4</td>\n",
       "      <td>B</td>\n",
       "    </tr>\n",
       "  </tbody>\n",
       "</table>\n",
       "</div>"
      ],
      "text/plain": [
       "                                            question           A  \\\n",
       "0  Find the degree for the given field extension ...           0   \n",
       "1  Let p = (1, 2, 5, 4)(2, 3) in S_5 . Find the i...           8   \n",
       "2  Find all zeros in the indicated finite field o...           0   \n",
       "3  Statement 1 | A factor group of a non-Abelian ...  True, True   \n",
       "4  Find the product of the given polynomials in t...    2x^2 + 5   \n",
       "\n",
       "               B            C            D answer           subject  \\\n",
       "0              4            2            6      B  abstract algebra   \n",
       "1              2           24          120      C  abstract algebra   \n",
       "2              1          0,1          0,4      D  abstract algebra   \n",
       "3   False, False  True, False  False, True      B  abstract algebra   \n",
       "4  6x^2 + 4x + 6            0      x^2 + 1      B  abstract algebra   \n",
       "\n",
       "   question_id result  \n",
       "0            0      B  \n",
       "1            1      C  \n",
       "2            2      D  \n",
       "3            3      B  \n",
       "4            4      B  "
      ]
     },
     "execution_count": 219,
     "metadata": {},
     "output_type": "execute_result"
    }
   ],
   "source": [
    "# A\n",
    "merged_x = pd.merge(df_test, df_x_cleaned, how='inner', on = 'question_id')\n",
    "merged_y = pd.merge(df_test, df_y_cleaned)\n",
    "merged_z = pd.merge(df_test, df_z_cleaned)\n",
    "merged_x.head()"
   ]
  },
  {
   "cell_type": "code",
   "execution_count": 220,
   "id": "50b024d2",
   "metadata": {},
   "outputs": [
    {
     "name": "stdout",
     "output_type": "stream",
     "text": [
      "average score model x: 0.767\n",
      "average score model y: 0.746\n",
      "average score model z: 0.663\n"
     ]
    }
   ],
   "source": [
    "# B\n",
    "#create a series of the correct\n",
    "\n",
    "correct_x = merged_x['answer'] == merged_x['result']\n",
    "correct_x = pd.Series(correct_x)\n",
    "#add it to the dataframe\n",
    "merged_x['correct'] = correct_x\n",
    "\n",
    "correct_y = merged_y['answer'] == merged_y['result']\n",
    "correct_y = pd.Series(correct_y)\n",
    "\n",
    "merged_y['correct'] = correct_y\n",
    "\n",
    "correct_z = merged_z['answer'] == merged_z['result']\n",
    "correct_z = pd.Series(correct_z)\n",
    "\n",
    "merged_z['correct'] = correct_z\n",
    "\n",
    "#print the average score\n",
    "mean_x = merged_x['correct'].mean()\n",
    "mean_y = merged_y['correct'].mean()\n",
    "mean_z = merged_z['correct'].mean()\n",
    "\n",
    "print(f'average score model x: {mean_x:.3f}')\n",
    "print(f'average score model y: {mean_y:.3f}')\n",
    "print(f'average score model z: {mean_z:.3f}')\n"
   ]
  },
  {
   "cell_type": "markdown",
   "id": "69decfd8-8083-4c2f-8263-a153d55efede",
   "metadata": {},
   "source": [
    "### 1.5 (5 pt)\n",
    "\n",
    "Hmmm, something doesn't seem quite right. Let's investigate how \"balanced\" this dataset is:\n",
    "\n",
    "A. For each of the 57 subjects in the MMLU, compare the number of questions answered by each model. Print the subjects for which there is a more than 10% difference.\n",
    "\n",
    "B. Propose and implement a reasonable way to rebalance the results. (e.g., while throwing away 100% of the results perfectly rebalances the results, it is not reasonable).\n",
    "\n",
    "C. Finally, print the updated accuracy on the rebalanced data.\n",
    "\n",
    "**hint:**:\n",
    "- (A) For a given subject, let model X and model Y have answered 181 and 200 questions respectively. You can consider this a 10% difference from the perspective of X since: (200 - 181) / 181 > 0.10"
   ]
  },
  {
   "cell_type": "code",
   "execution_count": 231,
   "id": "19463002-732b-405b-8b44-77f702bdb665",
   "metadata": {},
   "outputs": [
    {
     "name": "stdout",
     "output_type": "stream",
     "text": [
      "the subjects for which there is a more than 10percent differece are:\n",
      "college chemistry\n",
      "college computer science\n",
      "computer security\n",
      "formal logic\n",
      "high school geography\n",
      "logical fallacies\n",
      "medical genetics\n",
      "moral disputes\n",
      "moral scenarios\n"
     ]
    }
   ],
   "source": [
    "# A\n",
    "#count the number of questions answered and sort them in alphabetical order\n",
    "x_value_counts = merged_x.subject.value_counts().sort_index()\n",
    "y_value_counts = merged_y.subject.value_counts().sort_index()\n",
    "z_value_counts = merged_z.subject.value_counts().sort_index()\n",
    "\n",
    "x_value_counts.head()\n",
    "\n",
    "num_subjects = 57\n",
    "sub_more_10 = []\n",
    "for i in range(num_subjects):\n",
    "    x_num = x_value_counts.iloc[i]\n",
    "    y_num = y_value_counts.iloc[i]\n",
    "    z_num = z_value_counts.iloc[i]\n",
    "    sorted_vals = sorted([x_num, y_num, z_num])\n",
    "    if (sorted_vals[2]-sorted_vals[0])/sorted_vals[0] > 0.1:\n",
    "        sub_more_10.append(i)\n",
    "\n",
    "print('the subjects for which there is a more than 10percent differece are:')\n",
    "for i in sub_more_10:\n",
    "    print(x_value_counts.index[i])"
   ]
  },
  {
   "cell_type": "code",
   "execution_count": 232,
   "id": "2fb8c324",
   "metadata": {},
   "outputs": [],
   "source": [
    "# B\n",
    "#We can keep the number of subjects that is minimal in each group\n",
    "def remove_rows(merged_df, subject, nb_remove):\n",
    "    rows_subject = merged_df[merged_df['subject'] == subject]\n",
    "    rows_to_remove = rows_subject.sample(nb_remove).index\n",
    "    balanced_df = merged_df.drop(rows_to_remove)\n",
    "    return balanced_df\n",
    "\n",
    "new_x = merged_x.copy()\n",
    "new_y = merged_y.copy()\n",
    "new_z = merged_z.copy()\n",
    "for i in range(num_subjects):\n",
    "    x_num = x_value_counts.iloc[i]\n",
    "    y_num = y_value_counts.iloc[i]\n",
    "    z_num = z_value_counts.iloc[i]\n",
    "    sorted_vals = sorted([x_num, y_num, z_num])\n",
    "    if (sorted_vals[2]-sorted_vals[0])/sorted_vals[0] > 0.1:\n",
    "        #drop results for x:\n",
    "        if x_num > sorted_vals[0]:\n",
    "            to_drop = x_num - sorted_vals[0]\n",
    "            new_x = remove_rows(new_x, x_value_counts.index[i],to_drop)\n",
    "        if y_num > sorted_vals[0]:\n",
    "            to_drop = y_num - sorted_vals[0]\n",
    "            new_y = remove_rows(new_y, y_value_counts.index[i],to_drop)\n",
    "        if z_num > sorted_vals[0]:\n",
    "            to_drop = z_num - sorted_vals[0]\n",
    "            new_z = remove_rows(new_z, z_value_counts.index[i],to_drop)\n"
   ]
  },
  {
   "cell_type": "code",
   "execution_count": 234,
   "id": "2740b9d7",
   "metadata": {},
   "outputs": [
    {
     "name": "stdout",
     "output_type": "stream",
     "text": [
      "there are 0 subjects that have a more than 10percent difference\n"
     ]
    }
   ],
   "source": [
    "x_value_counts = new_x.subject.value_counts().sort_index()\n",
    "y_value_counts = new_y.subject.value_counts().sort_index()\n",
    "z_value_counts = new_z.subject.value_counts().sort_index()\n",
    "\n",
    "x_value_counts.head()\n",
    "\n",
    "num_subjects = 57\n",
    "sub_more_10 = []\n",
    "for i in range(num_subjects):\n",
    "    x_num = x_value_counts.iloc[i]\n",
    "    y_num = y_value_counts.iloc[i]\n",
    "    z_num = z_value_counts.iloc[i]\n",
    "    sorted_vals = sorted([x_num, y_num, z_num])\n",
    "    if (sorted_vals[2]-sorted_vals[0])/sorted_vals[0] > 0.1:\n",
    "        sub_more_10.append(i)\n",
    "\n",
    "print(f'there are {len(sub_more_10)} subjects that have a more than 10percent difference')"
   ]
  },
  {
   "cell_type": "code",
   "execution_count": 236,
   "id": "affc3746",
   "metadata": {},
   "outputs": [
    {
     "name": "stdout",
     "output_type": "stream",
     "text": [
      "New average score model x: 0.768\n",
      "New average score model y: 0.746\n",
      "New average score model z: 0.663\n"
     ]
    }
   ],
   "source": [
    "# C\n",
    "#print the average score\n",
    "mean_x = new_x['correct'].mean()\n",
    "mean_y = new_y['correct'].mean()\n",
    "mean_z = new_z['correct'].mean()\n",
    "\n",
    "print(f'New average score model x: {mean_x:.3f}')\n",
    "print(f'New average score model y: {mean_y:.3f}')\n",
    "print(f'New average score model z: {mean_z:.3f}')"
   ]
  },
  {
   "cell_type": "markdown",
   "id": "292b2f61-0529-4b6d-a3a7-af786a4d79ae",
   "metadata": {},
   "source": [
    "## Task 2 (26 points): What do you mean A > D > B > C...?\n",
    "\n",
    "Nice work! Having successfully inspected, cleaned, and rebalanced the provided data, you head over to director of the government's NEUTRALITY project. Ms. Sakota is happy with your work so far, but worried that the sloppy intern might have done more undetected damage. To be sure, she orders a new set of evaluations of all models on both MMLU and another dataset.\n",
    "\n",
    "After cleaning up and rebalancing, you are left with the concatenated score files in the second folder `task_2`:\n",
    "```\n",
    "task_2/\n",
    "│\n",
    "└── lm_scores_mmlu.csv\n",
    "│\n",
    "└── lm_scores_other.csv\n",
    "```\n",
    "\n",
    "Each has a new column called `model_name`, which is one of `X, Y` or `Z`.\n",
    "\n",
    "\n",
    "\n",
    "_NOTE: **only** use data from `task_2` and `task_2_5` for this assignment! The values in `lm_scores_mmlu.csv` will NOT be the same as the dataframes you finished in task 1. This is due to \"randomness\" or \"temperature\" in language model inference. This can slightly shift around generative results. (Conveniently: it also ensures any mistakes made in Task 1 don't propogate further ;) )_"
   ]
  },
  {
   "cell_type": "code",
   "execution_count": 85,
   "id": "a889a76b-e034-4d2f-929e-0ef1f250a0a0",
   "metadata": {},
   "outputs": [],
   "source": [
    "# PROVIDED CODE\n",
    "df_mmlu = pd.read_csv('task_2/lm_scores_mmlu.csv')\n",
    "df_other = pd.read_csv('task_2/lm_scores_other.csv')"
   ]
  },
  {
   "cell_type": "markdown",
   "id": "c31edde3-cc91-4d08-81c7-b5e98cf0ff9c",
   "metadata": {},
   "source": [
    "### 2.1 (4 pt)\n",
    "\n",
    "Let's explore the new results:\n",
    "\n",
    "A. Compute the mean accuracy and standard errors of each model on both datasets and print the results.\n",
    "\n",
    "B. Then, show your results in a bar plot using standard errors with a 95% confidence interval around the mean. Make sure the plot is easy to read and well annotated.\n",
    "\n",
    "C. /Discuss:/ the plot you created: (i) can you say that one of the models is the best? (ii) is there anything that seems odd?"
   ]
  },
  {
   "cell_type": "code",
   "execution_count": 86,
   "id": "56fe8cca-acd1-4f5e-a938-e8d3a850f220",
   "metadata": {},
   "outputs": [
    {
     "data": {
      "text/html": [
       "<div>\n",
       "<style scoped>\n",
       "    .dataframe tbody tr th:only-of-type {\n",
       "        vertical-align: middle;\n",
       "    }\n",
       "\n",
       "    .dataframe tbody tr th {\n",
       "        vertical-align: top;\n",
       "    }\n",
       "\n",
       "    .dataframe thead th {\n",
       "        text-align: right;\n",
       "    }\n",
       "</style>\n",
       "<table border=\"1\" class=\"dataframe\">\n",
       "  <thead>\n",
       "    <tr style=\"text-align: right;\">\n",
       "      <th></th>\n",
       "      <th>average_model_score</th>\n",
       "      <th>std_model_score</th>\n",
       "    </tr>\n",
       "    <tr>\n",
       "      <th>model_name</th>\n",
       "      <th></th>\n",
       "      <th></th>\n",
       "    </tr>\n",
       "  </thead>\n",
       "  <tbody>\n",
       "    <tr>\n",
       "      <th>X</th>\n",
       "      <td>0.743588</td>\n",
       "      <td>0.004038</td>\n",
       "    </tr>\n",
       "    <tr>\n",
       "      <th>Y</th>\n",
       "      <td>0.761542</td>\n",
       "      <td>0.003941</td>\n",
       "    </tr>\n",
       "    <tr>\n",
       "      <th>Z</th>\n",
       "      <td>0.655951</td>\n",
       "      <td>0.004393</td>\n",
       "    </tr>\n",
       "  </tbody>\n",
       "</table>\n",
       "</div>"
      ],
      "text/plain": [
       "            average_model_score  std_model_score\n",
       "model_name                                      \n",
       "X                      0.743588         0.004038\n",
       "Y                      0.761542         0.003941\n",
       "Z                      0.655951         0.004393"
      ]
     },
     "execution_count": 86,
     "metadata": {},
     "output_type": "execute_result"
    }
   ],
   "source": [
    "# A\n",
    "stats_mmlu = df_mmlu.groupby(df_mmlu['model_name']).apply(lambda x: pd.Series({\n",
    "        'average_model_score': x['correct'].mean(),\n",
    "        'std_model_score': x['correct'].sem()\n",
    "}),include_groups=False)\n",
    "stats_mmlu"
   ]
  },
  {
   "cell_type": "code",
   "execution_count": 87,
   "id": "38dbdaf9",
   "metadata": {},
   "outputs": [
    {
     "data": {
      "text/html": [
       "<div>\n",
       "<style scoped>\n",
       "    .dataframe tbody tr th:only-of-type {\n",
       "        vertical-align: middle;\n",
       "    }\n",
       "\n",
       "    .dataframe tbody tr th {\n",
       "        vertical-align: top;\n",
       "    }\n",
       "\n",
       "    .dataframe thead th {\n",
       "        text-align: right;\n",
       "    }\n",
       "</style>\n",
       "<table border=\"1\" class=\"dataframe\">\n",
       "  <thead>\n",
       "    <tr style=\"text-align: right;\">\n",
       "      <th></th>\n",
       "      <th>average_model_score</th>\n",
       "      <th>std_model_score</th>\n",
       "    </tr>\n",
       "    <tr>\n",
       "      <th>model_name</th>\n",
       "      <th></th>\n",
       "      <th></th>\n",
       "    </tr>\n",
       "  </thead>\n",
       "  <tbody>\n",
       "    <tr>\n",
       "      <th>X</th>\n",
       "      <td>0.787976</td>\n",
       "      <td>0.006668</td>\n",
       "    </tr>\n",
       "    <tr>\n",
       "      <th>Y</th>\n",
       "      <td>0.720936</td>\n",
       "      <td>0.007317</td>\n",
       "    </tr>\n",
       "    <tr>\n",
       "      <th>Z</th>\n",
       "      <td>0.671721</td>\n",
       "      <td>0.007660</td>\n",
       "    </tr>\n",
       "  </tbody>\n",
       "</table>\n",
       "</div>"
      ],
      "text/plain": [
       "            average_model_score  std_model_score\n",
       "model_name                                      \n",
       "X                      0.787976         0.006668\n",
       "Y                      0.720936         0.007317\n",
       "Z                      0.671721         0.007660"
      ]
     },
     "execution_count": 87,
     "metadata": {},
     "output_type": "execute_result"
    }
   ],
   "source": [
    "stats_other = df_other.groupby(df_other['model_name']).apply(lambda x: pd.Series({\n",
    "        'average_model_score': x['correct'].mean(),\n",
    "        'std_model_score': x['correct'].sem()\n",
    "    }),include_groups=False)\n",
    "stats_other\n"
   ]
  },
  {
   "cell_type": "code",
   "execution_count": 18,
   "id": "786d8f91",
   "metadata": {},
   "outputs": [
    {
     "data": {
      "text/plain": [
       "<matplotlib.legend.Legend at 0x1617dff50>"
      ]
     },
     "execution_count": 18,
     "metadata": {},
     "output_type": "execute_result"
    },
    {
     "data": {
      "image/png": "[encoded data removed]",
      "text/plain": [
       "<Figure size 1000x600 with 1 Axes>"
      ]
     },
     "metadata": {},
     "output_type": "display_data"
    }
   ],
   "source": [
    "# B\n",
    "model_names = ['X', 'Y', 'Z']\n",
    "x = np.arange(len(model_names)) \n",
    "\n",
    "bar_width = 0.2  # Width of the bars\n",
    "x_offset_mmlu = x - bar_width / 2  \n",
    "x_offset_other = x + bar_width / 2  \n",
    "\n",
    "fig, ax = plt.subplots(figsize=(10, 6))\n",
    "\n",
    "# Plot mmlu\n",
    "ax.bar(x_offset_other, stats_other.average_model_score.values, width=bar_width, label='Other', color='blue', yerr=stats_other.std_model_score.values, capsize=5)\n",
    "\n",
    "# Plot other\n",
    "ax.bar(x_offset_mmlu, stats_mmlu.average_model_score.values, width=bar_width, label='MMLU', color='green', yerr=stats_mmlu.std_model_score.values, capsize=5)\n",
    "\n",
    "ax.set_xticks(x)\n",
    "ax.set_xticklabels(model_names)\n",
    "ax.set_xlabel('Model Name')\n",
    "ax.set_ylabel('Average Model Score')\n",
    "ax.set_title('Average Model Scores by Dataset with Uncertainty')\n",
    "\n",
    "# Add a legend\n",
    "ax.legend()"
   ]
  },
  {
   "cell_type": "markdown",
   "id": "65c9fbfe",
   "metadata": {},
   "source": [
    "C. /Discuss:/\n",
    "We cannot conclude whether model X or Y is the best but we can see that model Z has the least good performance."
   ]
  },
  {
   "cell_type": "markdown",
   "id": "eee0ec62-f2d1-4bae-a6f6-221320d602cb",
   "metadata": {},
   "source": [
    "### 2.2 (5 pt)\n",
    "\n",
    "Ms. Sakota has assured you that both datasets contain questions of similar difficulty, so, what could be going on here?\n",
    "\n",
    "A. What is the distribution of correct answers (A, B, C, D) for each dataset? Create a bar chart to visualize this.\n",
    "\n",
    "B. Perform a chi-square test at $\\alpha = 0.05$, of independence to determine if there's a significant difference in the distribution of correct answers between the two datasets. What do you conclude?\n",
    "\n",
    "**hints**:\n",
    "- for (A), keep in mind that df_mmlu and df_other contain the results of all models, i.e., the `question_id` column is duplicated.\n",
    "- for (A), take care to clearly annotate the bar chart, e.g., title, y-label, legend.\n",
    "- for (B), clearly state the null hypothesis and alternative hypothesis\n",
    "- use the `chi2_contingency` function from `scipy.stats`\n",
    "- format your results from answer (A) as a 2D array"
   ]
  },
  {
   "cell_type": "code",
   "execution_count": 20,
   "id": "9e2d2b82",
   "metadata": {},
   "outputs": [],
   "source": [
    "stats_mmlu_correct = df_other.groupby(df_other['model_name']).apply(lambda x: pd.Series({\n",
    "        'average_model_score': x['correct'].mean(),\n",
    "        'std_model_score': x['correct'].sem()*1.96\n",
    "    }),include_groups=False)\n",
    "\n",
    "mmlu_modelX = df_mmlu[df_mmlu['model_name'] == 'X']\n",
    "mmlu_modelX_A = mmlu_modelX[mmlu_modelX['answer'] == 'A']\n",
    "mmlu_moldeX_A_correct = mmlu_modelX_A[mmlu_modelX_A['correct'] == True]"
   ]
  },
  {
   "cell_type": "code",
   "execution_count": 48,
   "id": "fb519094",
   "metadata": {},
   "outputs": [
    {
     "name": "stdout",
     "output_type": "stream",
     "text": [
      "{'X': [0.9726877715704532, 0.799184505606524, 0.7079047898912724, 0.6335918694838192], 'Y': [0.6238361266294227, 0.6880733944954128, 0.7334704672347928, 0.9042524739235089], 'Z': [0.6430788330229671, 0.6411824668705403, 0.6691154863355863, 0.6611393420700722]}\n"
     ]
    }
   ],
   "source": [
    "#Distribution of correct A answers in the mmlu dataset for each model (x,y,z)\n",
    "correct_answer_model = {'X': [], 'Y': [], 'Z': []}\n",
    "\n",
    "\n",
    "for model in ['X','Y','Z']:\n",
    "    for answer in ['A','B','C','D']:\n",
    "        mmlu_model_correct = ((df_mmlu['model_name'] == model) & \n",
    "        (df_mmlu['answer'] == answer) & \n",
    "        (df_mmlu['correct'] == True)).sum()\n",
    "        mmlu_total_answers = ((df_mmlu['model_name'] == model) & \n",
    "        (df_mmlu['answer'] == answer)).sum()\n",
    "        correct_answer_model[model].append(mmlu_model_correct/mmlu_total_answers)\n",
    "\n",
    "print(correct_answer_model)"
   ]
  },
  {
   "cell_type": "code",
   "execution_count": 47,
   "id": "d2e1b68e",
   "metadata": {},
   "outputs": [
    {
     "data": {
      "text/plain": [
       "{'X': [0.974025974025974,\n",
       "  0.8064516129032258,\n",
       "  0.6764069264069265,\n",
       "  0.6037441497659907],\n",
       " 'Y': [0.6252319109461967,\n",
       "  0.6639784946236559,\n",
       "  0.762987012987013,\n",
       "  0.9204368174726989],\n",
       " 'Z': [0.6808905380333952,\n",
       "  0.6675627240143369,\n",
       "  0.6623376623376623,\n",
       "  0.6770670826833073]}"
      ]
     },
     "execution_count": 47,
     "metadata": {},
     "output_type": "execute_result"
    }
   ],
   "source": [
    "correct_answer_model2 = {'X': [], 'Y': [], 'Z': []}\n",
    "\n",
    "\n",
    "for model in ['X','Y','Z']:\n",
    "    for answer in ['A','B','C','D']:\n",
    "        other_model_correct = ((df_other['model_name'] == model) & \n",
    "        (df_other['answer'] == answer) & \n",
    "        (df_other['correct'] == True)).sum()\n",
    "        other_total_answers = ((df_other['model_name'] == model) & \n",
    "        (df_other['answer'] == answer)).sum()\n",
    "        correct_answer_model2[model].append(other_model_correct/other_total_answers)\n",
    "correct_answer_model2       "
   ]
  },
  {
   "cell_type": "code",
   "execution_count": 54,
   "id": "df2caa29",
   "metadata": {},
   "outputs": [
    {
     "data": {
      "text/plain": [
       "<matplotlib.legend.Legend at 0x1406eab90>"
      ]
     },
     "execution_count": 54,
     "metadata": {},
     "output_type": "execute_result"
    },
    {
     "data": {
      "image/png": "[encoded data removed]",
      "text/plain": [
       "<Figure size 1000x600 with 1 Axes>"
      ]
     },
     "metadata": {},
     "output_type": "display_data"
    }
   ],
   "source": [
    "answers = ['A', 'B', 'C', 'D']\n",
    "x = np.arange(len(answers)) \n",
    "\n",
    "bar_width = 0.2  # Width of the bars\n",
    "x_offset_X = x - bar_width        # Shift 'X' bars to the left\n",
    "x_offset_Y = x                    # Leave 'Y' bars in the center\n",
    "x_offset_Z = x + bar_width   \n",
    "fig, ax = plt.subplots(figsize=(10, 6))\n",
    "\n",
    "# Plot mmlu\n",
    "ax.bar(x_offset_X, correct_answer_model['X'], width=bar_width, label='X', color='blue')\n",
    "\n",
    "# Plot other\n",
    "ax.bar(x_offset_Y, correct_answer_model['Y'], width=bar_width, label='Y', color='green')\n",
    "\n",
    "ax.bar(x_offset_Z, correct_answer_model['Z'], width=bar_width, label='Z', color='red')\n",
    "\n",
    "ax.set_xticks(x)\n",
    "ax.set_xticklabels(answers)\n",
    "ax.set_xlabel('Answer')\n",
    "ax.set_ylabel('Correct answer distribution')\n",
    "ax.set_title('MMLU dataset correct answer distribution')\n",
    "\n",
    "# Add a legend\n",
    "ax.legend()"
   ]
  },
  {
   "cell_type": "code",
   "execution_count": 56,
   "id": "a3d743dd",
   "metadata": {},
   "outputs": [
    {
     "data": {
      "text/plain": [
       "<matplotlib.legend.Legend at 0x1407a7410>"
      ]
     },
     "execution_count": 56,
     "metadata": {},
     "output_type": "execute_result"
    },
    {
     "data": {
      "image/png": "[encoded data removed]",
      "text/plain": [
       "<Figure size 1000x600 with 1 Axes>"
      ]
     },
     "metadata": {},
     "output_type": "display_data"
    }
   ],
   "source": [
    "fig, ax = plt.subplots(figsize=(10, 6))\n",
    "\n",
    "# Plot mmlu\n",
    "ax.bar(x_offset_X, correct_answer_model2['X'], width=bar_width, label='X', color='blue')\n",
    "\n",
    "# Plot other\n",
    "ax.bar(x_offset_Y, correct_answer_model2['Y'], width=bar_width, label='Y', color='green')\n",
    "\n",
    "ax.bar(x_offset_Z, correct_answer_model2['Z'], width=bar_width, label='Z', color='red')\n",
    "\n",
    "ax.set_xticks(x)\n",
    "ax.set_xticklabels(answers)\n",
    "ax.set_xlabel('Answer')\n",
    "ax.set_ylabel('Correct answer distribution')\n",
    "ax.set_title('Other dataset correct answer distribution')\n",
    "\n",
    "# Add a legend\n",
    "ax.legend()"
   ]
  },
  {
   "cell_type": "code",
   "execution_count": 49,
   "id": "ebb855d3",
   "metadata": {},
   "outputs": [
    {
     "data": {
      "text/plain": [
       "<matplotlib.legend.Legend at 0x1403c7f50>"
      ]
     },
     "execution_count": 49,
     "metadata": {},
     "output_type": "execute_result"
    },
    {
     "data": {
      "image/png": "[encoded data removed]",
      "text/plain": [
       "<Figure size 1000x600 with 1 Axes>"
      ]
     },
     "metadata": {},
     "output_type": "display_data"
    }
   ],
   "source": [
    "answers = ['A', 'B', 'C', 'D']\n",
    "x = np.arange(len(answers)) \n",
    "\n",
    "bar_width = 0.2  # Width of the bars\n",
    "x_offset_mmlu = x - bar_width / 2  \n",
    "x_offset_other = x + bar_width / 2  \n",
    "\n",
    "fig, ax = plt.subplots(figsize=(10, 6))\n",
    "\n",
    "# Plot mmlu\n",
    "ax.bar(x_offset_other, correct_answer_model['X'], width=bar_width, label='MMLU', color='blue')\n",
    "\n",
    "# Plot other\n",
    "ax.bar(x_offset_mmlu, correct_answer_model2['X'], width=bar_width, label='Other', color='green')\n",
    "\n",
    "ax.set_xticks(x)\n",
    "ax.set_xticklabels(answers)\n",
    "ax.set_xlabel('Answer')\n",
    "ax.set_ylabel('Correct answer distribution')\n",
    "ax.set_title('Model X correct answer distribution')\n",
    "\n",
    "# Add a legend\n",
    "ax.legend()"
   ]
  },
  {
   "cell_type": "code",
   "execution_count": 50,
   "id": "4c3f1c24",
   "metadata": {},
   "outputs": [
    {
     "data": {
      "text/plain": [
       "<matplotlib.legend.Legend at 0x1404d7390>"
      ]
     },
     "execution_count": 50,
     "metadata": {},
     "output_type": "execute_result"
    },
    {
     "data": {
      "image/png": "[encoded data removed]",
      "text/plain": [
       "<Figure size 1000x600 with 1 Axes>"
      ]
     },
     "metadata": {},
     "output_type": "display_data"
    }
   ],
   "source": [
    "fig, ax = plt.subplots(figsize=(10, 6))\n",
    "\n",
    "# Plot mmlu\n",
    "ax.bar(x_offset_other, correct_answer_model['Y'], width=bar_width, label='MMLU', color='blue')\n",
    "\n",
    "# Plot other\n",
    "ax.bar(x_offset_mmlu, correct_answer_model2['Y'], width=bar_width, label='Other', color='green')\n",
    "\n",
    "ax.set_xticks(x)\n",
    "ax.set_xticklabels(answers)\n",
    "ax.set_xlabel('Answer')\n",
    "ax.set_ylabel('Correct answer distribution')\n",
    "ax.set_title('Model Y correct answer distribution')\n",
    "\n",
    "# Add a legend\n",
    "ax.legend()"
   ]
  },
  {
   "cell_type": "code",
   "execution_count": 51,
   "id": "b2c24069",
   "metadata": {},
   "outputs": [
    {
     "data": {
      "text/plain": [
       "<matplotlib.legend.Legend at 0x140433dd0>"
      ]
     },
     "execution_count": 51,
     "metadata": {},
     "output_type": "execute_result"
    },
    {
     "data": {
      "image/png": "[encoded data removed]",
      "text/plain": [
       "<Figure size 1000x600 with 1 Axes>"
      ]
     },
     "metadata": {},
     "output_type": "display_data"
    }
   ],
   "source": [
    "fig, ax = plt.subplots(figsize=(10, 6))\n",
    "\n",
    "# Plot mmlu\n",
    "ax.bar(x_offset_other, correct_answer_model['Z'], width=bar_width, label='MMLU', color='blue')\n",
    "\n",
    "# Plot other\n",
    "ax.bar(x_offset_mmlu, correct_answer_model2['Z'], width=bar_width, label='Other', color='green')\n",
    "\n",
    "ax.set_xticks(x)\n",
    "ax.set_xticklabels(answers)\n",
    "ax.set_xlabel('Answer')\n",
    "ax.set_ylabel('Correct answer distribution')\n",
    "ax.set_title('Model Z correct answer distribution')\n",
    "\n",
    "# Add a legend\n",
    "ax.legend()"
   ]
  },
  {
   "cell_type": "code",
   "execution_count": null,
   "id": "cc03d5a4",
   "metadata": {},
   "outputs": [],
   "source": [
    "#Distribution of correct A answers in the other dataset for each model (x,y,z)\n",
    "other_modelX_A_correct = df_mmlu[\n",
    "    (df_mmlu['model_name'] == 'X') & \n",
    "    (df_mmlu['answer'] == 'A') & \n",
    "    (df_mmlu['correct'] == True)\n",
    "]\n",
    "other_modelY_A_correct = df_mmlu[\n",
    "    (df_mmlu['model_name'] == 'Y') & \n",
    "    (df_mmlu['answer'] == 'A') & \n",
    "    (df_mmlu['correct'] == True)\n",
    "]\n",
    "other_modelZ_A_correct = df_mmlu[\n",
    "    (df_mmlu['model_name'] == 'Z') & \n",
    "    (df_mmlu['answer'] == 'A') & \n",
    "    (df_mmlu['correct'] == True)\n",
    "]\n",
    "other_modelX_A_correct.head()\n",
    "total_A_X = len(df_mmlu[\n",
    "    (df_mmlu['model_name'] == 'X') & \n",
    "    (df_mmlu['answer'] == 'A')])"
   ]
  },
  {
   "cell_type": "code",
   "execution_count": 15,
   "id": "0ff9e33e",
   "metadata": {},
   "outputs": [
    {
     "name": "stdout",
     "output_type": "stream",
     "text": [
      "4833\n",
      "3234\n"
     ]
    }
   ],
   "source": [
    "correct = df_mmlu[df_mmlu['answer'] == 'A']\n",
    "print(len(correct))\n",
    "correct = df_other[df_other['answer'] == 'A']\n",
    "print(len(correct))"
   ]
  },
  {
   "cell_type": "code",
   "execution_count": 12,
   "id": "30b16f70-93e0-4a19-8a6d-b3ae5a75ae65",
   "metadata": {},
   "outputs": [
    {
     "name": "stdout",
     "output_type": "stream",
     "text": [
      "[0.7465342437409477, 0.709480122324159, 0.7034969144872172, 0.7329945618258001]\n",
      "[0.7600494743351887, 0.7126642771804063, 0.7005772005772006, 0.733749349973999]\n"
     ]
    }
   ],
   "source": [
    "# A\n",
    "def count_nb_correct(dataframe, model):\n",
    "    correct = dataframe[dataframe['answer'] == model]\n",
    "    nb_total = len(correct.copy())\n",
    "    correct = correct[correct['correct'] == True]\n",
    "    nb_correct = len(correct)\n",
    "    return nb_correct, nb_total\n",
    "\n",
    "nb_correct_A_mmlu, nb_total_A_mmlu = count_nb_correct(df_mmlu, 'A')\n",
    "nb_correct_B_mmlu, nb_total_B_mmlu= count_nb_correct(df_mmlu, 'B')\n",
    "nb_correct_C_mmlu, nb_total_C_mmlu = count_nb_correct(df_mmlu, 'C')\n",
    "nb_correct_D_mmlu, nb_total_D_mmlu = count_nb_correct(df_mmlu, 'D')\n",
    "mmlu_nbs = [nb_correct_A_mmlu/nb_total_A_mmlu, nb_correct_B_mmlu/nb_total_B_mmlu, nb_correct_C_mmlu/nb_total_C_mmlu, nb_correct_D_mmlu/nb_total_D_mmlu]\n",
    "\n",
    "nb_correct_A_other, nb_total_A_other = count_nb_correct(df_other, 'A')\n",
    "nb_correct_B_other, nb_total_B_other = count_nb_correct(df_other, 'B')\n",
    "nb_correct_C_other, nb_total_C_other = count_nb_correct(df_other, 'C')\n",
    "nb_correct_D_other, nb_total_D_other = count_nb_correct(df_other, 'D')\n",
    "other_nbs = [nb_correct_A_other/nb_total_A_other, nb_correct_B_other/nb_total_B_other, nb_correct_C_other/nb_total_C_other, nb_correct_D_other/nb_total_D_other]\n",
    "\n",
    "print(mmlu_nbs)\n",
    "print(other_nbs)"
   ]
  },
  {
   "cell_type": "code",
   "execution_count": 13,
   "id": "9c725b01",
   "metadata": {},
   "outputs": [
    {
     "data": {
      "text/plain": [
       "<matplotlib.legend.Legend at 0x161647e10>"
      ]
     },
     "execution_count": 13,
     "metadata": {},
     "output_type": "execute_result"
    },
    {
     "data": {
      "image/png": "[encoded data removed]",
      "text/plain": [
       "<Figure size 1000x600 with 1 Axes>"
      ]
     },
     "metadata": {},
     "output_type": "display_data"
    }
   ],
   "source": [
    "model_names = ['A', 'B', 'C', 'D']\n",
    "x = np.arange(len(model_names)) \n",
    "\n",
    "bar_width = 0.2  # Width of the bars\n",
    "x_offset_mmlu = x - bar_width / 2  \n",
    "x_offset_other = x + bar_width / 2  \n",
    "\n",
    "fig, ax = plt.subplots(figsize=(10, 6))\n",
    "\n",
    "# Plot mmlu\n",
    "ax.bar(x_offset_other, other_nbs, width=bar_width, label='Other', color='blue')\n",
    "\n",
    "# Plot other\n",
    "ax.bar(x_offset_mmlu, mmlu_nbs, width=bar_width, label='MMLU', color='green')\n",
    "\n",
    "ax.set_xticks(x)\n",
    "ax.set_xticklabels(model_names)\n",
    "ax.set_xlabel('Model Name')\n",
    "ax.set_ylabel('Average Model Score')\n",
    "ax.set_title('Average Model Scores by Dataset with Uncertainty')\n",
    "\n",
    "# Add a legend\n",
    "ax.legend()"
   ]
  },
  {
   "cell_type": "code",
   "execution_count": 301,
   "id": "be331570",
   "metadata": {},
   "outputs": [],
   "source": [
    "from scipy.stats import chi2_contingency"
   ]
  },
  {
   "cell_type": "code",
   "execution_count": 61,
   "id": "91799641",
   "metadata": {},
   "outputs": [
    {
     "name": "stdout",
     "output_type": "stream",
     "text": [
      "0.9999913380087749\n",
      "0.9999907283869803\n",
      "0.999993740418492\n"
     ]
    }
   ],
   "source": [
    "contingency_observed_X = [correct_answer_model2['X'], correct_answer_model['X']]\n",
    "chi2, p_value_X, dof, expected = chi2_contingency(contingency_observed_X)\n",
    "print(p_value_X)\n",
    "\n",
    "contingency_observed_Y = [correct_answer_model2['Y'], correct_answer_model['Y']]\n",
    "chi2, p_value_Y, dof, expected = chi2_contingency(contingency_observed_Y)\n",
    "print(p_value_Y)\n",
    "\n",
    "contingency_observed_Z = [correct_answer_model2['Z'], correct_answer_model['Z']]\n",
    "chi2, p_value_Z, dof, expected = chi2_contingency(contingency_observed_Z)\n",
    "print(p_value_Z)"
   ]
  },
  {
   "cell_type": "code",
   "execution_count": 403,
   "id": "26a73380",
   "metadata": {},
   "outputs": [
    {
     "name": "stdout",
     "output_type": "stream",
     "text": [
      "0.0\n"
     ]
    }
   ],
   "source": [
    "# B\n",
    "# Null hypothesis: The distribution of correct answers between the two datasets is is identical\n",
    "\n",
    "contingency_observed = np.array([\n",
    "    [nb_correct_A_mmlu, nb_correct_A_other],\n",
    "    [nb_correct_B_mmlu, nb_correct_B_other],\n",
    "    [nb_correct_C_mmlu, nb_correct_C_other],\n",
    "    [nb_correct_D_mmlu, nb_correct_D_other]\n",
    "])\n",
    "\n",
    "chi2, p_value, dof, expected = chi2_contingency(contingency_observed)\n",
    "print(p_value)"
   ]
  },
  {
   "cell_type": "markdown",
   "id": "2d3125ad-5a7e-44e7-999a-a0ff99855d39",
   "metadata": {},
   "source": [
    "### 2.3 (7 pt)\n",
    "\n",
    "Let's dive in deeper:\n",
    "\n",
    "A. What is language model X's mean accuracy conditioned on the four answer options for each dataset?\n",
    "\n",
    "B. Compare LM X's performance when the correct answer is \"A\" between the two datasets. Use a T-test with CI = 0.95. What do you conclude?\n",
    "\n",
    "C. Compare LM X's performance when the correct answer is \"A\" vs. \"C or D\" for each dataset. Use a T-test with CI = 0.95. What do you conclude?"
   ]
  },
  {
   "cell_type": "code",
   "execution_count": 67,
   "id": "39097a11-8efe-46d1-8bc3-5587bb58d199",
   "metadata": {},
   "outputs": [
    {
     "name": "stdout",
     "output_type": "stream",
     "text": [
      "Mean accuracy of model X on MMLU dataset: 0.778\n",
      "Mean accuracy of model X on other dataset: 0.765\n"
     ]
    }
   ],
   "source": [
    "# A\n",
    "X_array = np.array(correct_answer_model['X'])\n",
    "print(f'Mean accuracy of model X on MMLU dataset: {X_array.mean():.3f}')\n",
    "\n",
    "X_array2 = np.array(correct_answer_model2['X'])\n",
    "print(f'Mean accuracy of model X on other dataset: {X_array2.mean():.3f}')"
   ]
  },
  {
   "cell_type": "code",
   "execution_count": 68,
   "id": "57fd3409",
   "metadata": {},
   "outputs": [
    {
     "data": {
      "text/html": [
       "<div>\n",
       "<style scoped>\n",
       "    .dataframe tbody tr th:only-of-type {\n",
       "        vertical-align: middle;\n",
       "    }\n",
       "\n",
       "    .dataframe tbody tr th {\n",
       "        vertical-align: top;\n",
       "    }\n",
       "\n",
       "    .dataframe thead th {\n",
       "        text-align: right;\n",
       "    }\n",
       "</style>\n",
       "<table border=\"1\" class=\"dataframe\">\n",
       "  <thead>\n",
       "    <tr style=\"text-align: right;\">\n",
       "      <th></th>\n",
       "      <th>result</th>\n",
       "      <th>question_id</th>\n",
       "      <th>question</th>\n",
       "      <th>A</th>\n",
       "      <th>B</th>\n",
       "      <th>C</th>\n",
       "      <th>D</th>\n",
       "      <th>answer</th>\n",
       "      <th>subject</th>\n",
       "      <th>correct</th>\n",
       "      <th>model_name</th>\n",
       "    </tr>\n",
       "  </thead>\n",
       "  <tbody>\n",
       "    <tr>\n",
       "      <th>0</th>\n",
       "      <td>B</td>\n",
       "      <td>0</td>\n",
       "      <td>Find the degree for the given field extension ...</td>\n",
       "      <td>0</td>\n",
       "      <td>4</td>\n",
       "      <td>2</td>\n",
       "      <td>6</td>\n",
       "      <td>B</td>\n",
       "      <td>abstract algebra</td>\n",
       "      <td>True</td>\n",
       "      <td>X</td>\n",
       "    </tr>\n",
       "    <tr>\n",
       "      <th>1</th>\n",
       "      <td>C</td>\n",
       "      <td>1</td>\n",
       "      <td>Let p = (1, 2, 5, 4)(2, 3) in S_5 . Find the i...</td>\n",
       "      <td>8</td>\n",
       "      <td>2</td>\n",
       "      <td>24</td>\n",
       "      <td>120</td>\n",
       "      <td>C</td>\n",
       "      <td>abstract algebra</td>\n",
       "      <td>True</td>\n",
       "      <td>X</td>\n",
       "    </tr>\n",
       "    <tr>\n",
       "      <th>2</th>\n",
       "      <td>D</td>\n",
       "      <td>2</td>\n",
       "      <td>Find all zeros in the indicated finite field o...</td>\n",
       "      <td>0</td>\n",
       "      <td>1</td>\n",
       "      <td>0,1</td>\n",
       "      <td>0,4</td>\n",
       "      <td>D</td>\n",
       "      <td>abstract algebra</td>\n",
       "      <td>True</td>\n",
       "      <td>X</td>\n",
       "    </tr>\n",
       "    <tr>\n",
       "      <th>3</th>\n",
       "      <td>B</td>\n",
       "      <td>3</td>\n",
       "      <td>Statement 1 | A factor group of a non-Abelian ...</td>\n",
       "      <td>True, True</td>\n",
       "      <td>False, False</td>\n",
       "      <td>True, False</td>\n",
       "      <td>False, True</td>\n",
       "      <td>B</td>\n",
       "      <td>abstract algebra</td>\n",
       "      <td>True</td>\n",
       "      <td>X</td>\n",
       "    </tr>\n",
       "    <tr>\n",
       "      <th>4</th>\n",
       "      <td>D</td>\n",
       "      <td>7</td>\n",
       "      <td>Statement 1 | A ring homomorphism is one to on...</td>\n",
       "      <td>True, True</td>\n",
       "      <td>False, False</td>\n",
       "      <td>True, False</td>\n",
       "      <td>False, True</td>\n",
       "      <td>D</td>\n",
       "      <td>abstract algebra</td>\n",
       "      <td>True</td>\n",
       "      <td>X</td>\n",
       "    </tr>\n",
       "  </tbody>\n",
       "</table>\n",
       "</div>"
      ],
      "text/plain": [
       "  result  question_id                                           question  \\\n",
       "0      B            0  Find the degree for the given field extension ...   \n",
       "1      C            1  Let p = (1, 2, 5, 4)(2, 3) in S_5 . Find the i...   \n",
       "2      D            2  Find all zeros in the indicated finite field o...   \n",
       "3      B            3  Statement 1 | A factor group of a non-Abelian ...   \n",
       "4      D            7  Statement 1 | A ring homomorphism is one to on...   \n",
       "\n",
       "            A             B            C            D answer  \\\n",
       "0           0             4            2            6      B   \n",
       "1           8             2           24          120      C   \n",
       "2           0             1          0,1          0,4      D   \n",
       "3  True, True  False, False  True, False  False, True      B   \n",
       "4  True, True  False, False  True, False  False, True      D   \n",
       "\n",
       "            subject  correct model_name  \n",
       "0  abstract algebra     True          X  \n",
       "1  abstract algebra     True          X  \n",
       "2  abstract algebra     True          X  \n",
       "3  abstract algebra     True          X  \n",
       "4  abstract algebra     True          X  "
      ]
     },
     "execution_count": 68,
     "metadata": {},
     "output_type": "execute_result"
    }
   ],
   "source": [
    "df_mmlu.head()"
   ]
  },
  {
   "cell_type": "code",
   "execution_count": 76,
   "id": "9ae67c09",
   "metadata": {},
   "outputs": [
    {
     "data": {
      "text/plain": [
       "TtestResult(statistic=-0.21059510911432247, pvalue=0.8332191972699248, df=2687.0)"
      ]
     },
     "execution_count": 76,
     "metadata": {},
     "output_type": "execute_result"
    }
   ],
   "source": [
    "# B\n",
    "df_mmlu_X = df_mmlu[df_mmlu['model_name'] == 'X']\n",
    "df_other_X = df_other[df_other['model_name'] == 'X']\n",
    "\n",
    "ttest_ind(df_mmlu_X.loc[df_mmlu_X['answer'] == 'A']['correct'], df_other_X.loc[df_other_X['answer'] == 'A']['correct'])"
   ]
  },
  {
   "cell_type": "code",
   "execution_count": 80,
   "id": "636af6a6",
   "metadata": {},
   "outputs": [
    {
     "name": "stdout",
     "output_type": "stream",
     "text": [
      "TtestResult(statistic=25.556410645761325, pvalue=5.334906497224946e-139, df=8751.0)\n",
      "TtestResult(statistic=21.66703250957516, pvalue=5.900859805611251e-96, df=2641.0)\n"
     ]
    }
   ],
   "source": [
    "# C\n",
    "test_mmlu = ttest_ind(df_mmlu_X.loc[df_mmlu_X['answer'] == 'A']['correct'],df_mmlu_X.loc[df_mmlu_X['answer'].isin(['C', 'D'])]['correct'])\n",
    "test_other = ttest_ind(df_other_X.loc[df_other_X['answer'] == 'A']['correct'],df_other_X.loc[df_other_X['answer'].isin(['C', 'D'])]['correct'])\n",
    "print(test_mmlu)\n",
    "print(test_other)"
   ]
  },
  {
   "cell_type": "markdown",
   "id": "33848ff9-2604-4e48-b5df-3207dc81e9a9",
   "metadata": {},
   "source": [
    "### 2.4 (2 pt)\n",
    "\n",
    "What an intriguing finding! \n",
    "\n",
    "A. Print the mean accuracies conditioned on the correct answer for all LMs for each dataset.\n",
    "\n",
    "B. /Discuss:/ What do you observe?"
   ]
  },
  {
   "cell_type": "code",
   "execution_count": 82,
   "id": "ec53ce2c-866e-440a-ac79-7813cb756782",
   "metadata": {},
   "outputs": [
    {
     "name": "stdout",
     "output_type": "stream",
     "text": [
      "Mean accuracy of model X on MMLU dataset: 0.778\n",
      "Mean accuracy of model Y on MMLU dataset: 0.737\n",
      "Mean accuracy of model Z on MMLU dataset: 0.654\n",
      "Mean accuracy of model X on other dataset: 0.765\n",
      "Mean accuracy of model Y on other dataset: 0.743\n",
      "Mean accuracy of model Z on other dataset: 0.672\n"
     ]
    }
   ],
   "source": [
    "# A\n",
    "#Mean accuracy for dataset mmlu for model x\n",
    "X_array = np.array(correct_answer_model['X'])\n",
    "print(f'Mean accuracy of model X on MMLU dataset: {X_array.mean():.3f}')\n",
    "Y_array = np.array(correct_answer_model['Y'])\n",
    "print(f'Mean accuracy of model Y on MMLU dataset: {Y_array.mean():.3f}')\n",
    "Z_array = np.array(correct_answer_model['Z'])\n",
    "print(f'Mean accuracy of model Z on MMLU dataset: {Z_array.mean():.3f}')\n",
    "\n",
    "X_array2 = np.array(correct_answer_model2['X'])\n",
    "print(f'Mean accuracy of model X on other dataset: {X_array2.mean():.3f}')\n",
    "Y_array2 = np.array(correct_answer_model2['Y'])\n",
    "print(f'Mean accuracy of model Y on other dataset: {Y_array2.mean():.3f}')\n",
    "Z_array2 = np.array(correct_answer_model2['Z'])\n",
    "print(f'Mean accuracy of model Z on other dataset: {Z_array2.mean():.3f}')"
   ]
  },
  {
   "cell_type": "markdown",
   "id": "4ce58e47",
   "metadata": {},
   "source": [
    "B. /Discuss:/"
   ]
  },
  {
   "cell_type": "markdown",
   "id": "ccdd9d3c-5a03-4b30-84f7-a7dfbee1373e",
   "metadata": {},
   "source": [
    "### 2.5 (2 pt)\n",
    "\n",
    "Concerned with your findings so far, you quickly consult with Ms. Sakota. After thinking it over, Ms. Sakota concludes that more tests are needed. She orders a second round of MMLU results. However, the clever Ms. Sakota thinks of the following twist: while keeping questions fixed, she randomly permutes the position of the correct answer. The new results can be found in the folder `data/task_2_5/`:\n",
    "```\n",
    "task_2_5/\n",
    "│\n",
    "└── lm_scores_mmlu_shuffle.csv\n",
    "```\n",
    "\n",
    "/Discuss:/ Why would Ms. Sakota do this?"
   ]
  },
  {
   "cell_type": "markdown",
   "id": "64cc586a",
   "metadata": {},
   "source": [
    "/Discuss:/"
   ]
  },
  {
   "cell_type": "markdown",
   "id": "b9150ae0-dbaa-4c88-bf80-ec03127c6945",
   "metadata": {},
   "source": [
    "### 2.6 (4 pt)\n",
    "\n",
    "Increasingly sceptical of the language models' performance, you read up on proper testing practices. You stumble upon the concept of [test-rested stability](https://en.wikipedia.org/wiki/Repeatability), which roughtly states that:\n",
    "\n",
    "\"_Measurements taken by a single person or instrument on the same item, under the same conditions, and in a short period of time, should have the same results._\"\n",
    "\n",
    "In our case, we would assume an LM would have the same performance on a given question regardless of the correct answer position. One way of testing this is by using the following metric:\n",
    "\n",
    "$$\\text{test-retest metric} = \\frac{1}{N}\\sum_{i=1}^N \\frac{1}{M}\\sum_{j=1}^M c^i_0 c_j^i,$$\n",
    "\n",
    "where $c^i_0 \\in \\{0, 1\\}$ indicates whether the model answers the $i^{\\text{th}}$ question correctly (1 if correct, 0 if incorrect). $c_j^i$ indicates whether the model answers the $i^{\\text{th}}$ question correctly in the $j^{\\text{th}}$ shuffled version of the answer label content. Finally, $M$ is the total number of shuffles and $N$ is the dataset size.\n",
    "\n",
    "Task: compute the test-retest metric for each language model using the original `lm_scores_mmlu.csv` file and the new `lm_scores_mmlu_shuffle.csv` file. Using a bar plot, visualize your results by comparing the accuracy of the original `lm_scores_mmlu.csv` and the test-retest scores.\n",
    "\n",
    "**hints**\n",
    "- what is $M$ in our case?\n",
    "\n",
    "(bonus: no points, but so much sweet, sweet knowledge - check out [the following article](https://arxiv.org/pdf/2406.19470v1))"
   ]
  },
  {
   "cell_type": "code",
   "execution_count": null,
   "id": "5b55fcfc-6de9-4cd3-bf2d-bde399ae2fbc",
   "metadata": {},
   "outputs": [],
   "source": []
  },
  {
   "cell_type": "markdown",
   "id": "b70bee6e-0c81-4f5a-b1a8-16a96aa2ae17",
   "metadata": {},
   "source": [
    "### 2.7 (2 pt)\n",
    "\n",
    "A. Using the unshuffled data: For each LM, print the distribution of the answers they give as well as the accuracy conditioned on the answer they give.\n",
    "\n",
    "B. /Discuss:/ Describe what you observe\n",
    "\n",
    "[bonus: not scored, but again _that sweet, sweet knowledge_] Could you think of a plausible explanation?"
   ]
  },
  {
   "cell_type": "code",
   "execution_count": null,
   "id": "4956581b-d047-46cb-ae71-1508a9a0b466",
   "metadata": {},
   "outputs": [],
   "source": [
    "# A"
   ]
  },
  {
   "cell_type": "markdown",
   "id": "65639228",
   "metadata": {},
   "source": [
    "B. /Discuss:/"
   ]
  },
  {
   "cell_type": "markdown",
   "id": "ce3186fe-ef8e-4af3-9a07-a6081d454e5a",
   "metadata": {},
   "source": [
    "## Task 3 (16 points): What do Questions and Answers look like for a Language Model?\n",
    "\n",
    "While you feel pretty good about the tests you conducted so far, something still bothers you: what if the language models don't see the data like you do? Suddenly, you receive a phone call from a wise AI sage in the West, _Westoda_:\n",
    "\n",
    "```\n",
    "\"Hmm, correct you are, young padawan, to question how the world is seen by large language models! Simple 'text' it is not, hmm? No, no, no! Characters and words, the way of puny humans, this is not, heh heh heh.\n",
    "\n",
    "'Tokens', they use, yes! Mysterious and powerful, these tokens are. Expand our vocabulary, they do, beyond the simple 'a to Z'. Chunky blocks of text, they become, yes! 'Hello world', a simple phrase it may seem. But to a language model, '[24912, 2375]' it might appear, yes! Confusing, it is, hmm?\n",
    "\n",
    "Wise, it would be, to explore these MMLU data points through the eyes of a language model, you think? Yes, yes! Much to learn, there is. The ways of the tokens, understand you must, if truly comprehend the great LMs, you wish to.\n",
    "Meditate on this, you should. The force of natural language processing, strong it is. But patience, you must have, my young padawan. For only through great study and contemplation, will the mysteries of the tokens reveal themselves to you, they will. Yes, hmmm!\"\n",
    "```\n",
    "\n",
    "Admittingly, Westoda at times speaks in riddles… However, he was explaining a crucial aspect of modern LMs called [Tokenization](https://learn.microsoft.com/en-us/dotnet/ai/conceptual/understanding-tokens):\n",
    "\n",
    "\n",
    "“Tokens are words, character sets, or combinations of words and punctuation that are used by [language models (LMs)] to decompose text into. Tokenization is the first step in training”\n",
    "\n",
    "Instead of characters, LMs process natural language using “tokens”. While this is useful for a number of reasons, it does at times introduce some “unintuitive” behavior…"
   ]
  },
  {
   "cell_type": "code",
   "execution_count": null,
   "id": "e2c66517-938b-4331-9eea-1b23fe4ad9e7",
   "metadata": {},
   "outputs": [],
   "source": [
    "# PROVIDED CODE\n",
    "\n",
    "try:\n",
    "    import tiktoken\n",
    "except Exception as e:\n",
    "    print('installing tiktoken package')\n",
    "    \n",
    "    !pip install tiktoken\n",
    "    \n",
    "    import tiktoken\n",
    "\n",
    "def tokenize_text(s):\n",
    "    enc = tiktoken.encoding_for_model('gpt-4o')\n",
    "    tokens = enc.encode(str(s))\n",
    "    return tokens\n",
    "\n",
    "example_string = 'hello world'\n",
    "print(f'humans see: \"{example_string}\" --> language models see: {tokenize_text(example_string)}')"
   ]
  },
  {
   "cell_type": "markdown",
   "id": "3c8019ee-7d52-496f-afff-c96f2f9db08c",
   "metadata": {},
   "source": [
    "### 3.1 (5 pt)\n",
    "\n",
    "Use the provided code in the cell above to \"see the world through the eyes of a language model\":\n",
    "\n",
    "A. Tokenize the questions of the original MMLU data provided in task 1: `task_1/mmlu_data/test.csv` and plot the token distribution (the frequency of each token).\n",
    "\n",
    "B. Same as (A), but now for the answers in columns (columns \"A\", \"B\", \"C\", and \"D\").\n",
    "\n",
    "C. Isolate the tokens for the strings \"A\", \"B\", \"C\", and \"D\", then, for their occurances in both questions and answers, print their relative distribution to each other.\n",
    "\n",
    "**hint**\n",
    "- There are a _lot_ of tokens, consider using a cutoff point and log scale\n",
    "- For (c), they should sum to 1"
   ]
  },
  {
   "cell_type": "code",
   "execution_count": null,
   "id": "a9a1e97b-3a31-41b1-a9c3-fb84cb1740d9",
   "metadata": {},
   "outputs": [],
   "source": [
    "# A"
   ]
  },
  {
   "cell_type": "code",
   "execution_count": null,
   "id": "fe1f8be8",
   "metadata": {},
   "outputs": [],
   "source": [
    "# B"
   ]
  },
  {
   "cell_type": "code",
   "execution_count": null,
   "id": "cd392df7",
   "metadata": {},
   "outputs": [],
   "source": [
    "# C"
   ]
  },
  {
   "cell_type": "markdown",
   "id": "a674929c-68e1-4cd8-97b3-efa0cdae4874",
   "metadata": {},
   "source": [
    "### 3.2 (3 pt)\n",
    "\n",
    "What if the number of \"A\", \"B\", \"C\", and \"D\" tokens in the question and answer pairs could influence a language model's decisions?\n",
    "\n",
    "A. For each combined question-answers pair, compute: \n",
    "1. the number of \"A\", \"B\", \"C\", and \"D\" tokens; and\n",
    "2. the total number of tokens.\n",
    "3. then, group by the \"correct\" answer and compute the mean frequency of A, B, C, and D tokens and the total number of tokens. \n",
    "4. finally, print your results\n",
    "\n",
    "B. /Discuss:/ What do you think of the hypothesis that the frequency of A, B, C, and D tokens could influence answers?\n"
   ]
  },
  {
   "cell_type": "code",
   "execution_count": null,
   "id": "25419cc1-f058-4c51-a0aa-577272b8b578",
   "metadata": {},
   "outputs": [],
   "source": [
    "# A"
   ]
  },
  {
   "cell_type": "markdown",
   "id": "3ea8a279",
   "metadata": {},
   "source": [
    "B. /Discuss:/"
   ]
  },
  {
   "cell_type": "markdown",
   "id": "af25ef95-d2ce-4112-87f7-8b0a52755e2a",
   "metadata": {},
   "source": [
    "### 3.3 (4 pt)\n",
    "\n",
    "Three of the most important considerations when deciding between language models are:\n",
    "\n",
    "Quality\n",
    "Costs\n",
    "Speed\n",
    "\n",
    "So far, much of your analysis has focused on quality. However, the government has indicated that they are quite concerned about both the total costs and speed as well. Specifically, it has been brought to their attention that a new `turbo` model has been launched! \n",
    "\n",
    "This model is both cheaper and faster than the models you evaluated so far. However, there is a catch: the context length* is much smaller than that of the other LMS. Namely, it can only process **300** tokens during inference. Meanwhile, the other models can process up to 100K tokens! \n",
    "\n",
    "*_The “context length” refers to the number of tokens that can be given to an LM as input._\n",
    "\n",
    "A. Are there subjects where using the cheaper model might be problematic? I.e., where part of the question and answer(s) might not fit completely in the context?\n",
    "\n",
    "B. /Discuss:/ Can you think of a strategy that would balance the needs of the government?\n",
    "\n",
    "**hint**:\n",
    "- An LM needs to have both the question and the different answer options in its context"
   ]
  },
  {
   "cell_type": "code",
   "execution_count": null,
   "id": "a88a6fa3-2735-44d7-9944-076cc9f679ed",
   "metadata": {},
   "outputs": [],
   "source": [
    "# A"
   ]
  },
  {
   "cell_type": "markdown",
   "id": "47f8a44a",
   "metadata": {},
   "source": [
    "B. /Dicsuss:/"
   ]
  },
  {
   "cell_type": "markdown",
   "id": "110f07bf-558f-467c-8f66-d88db561d455",
   "metadata": {},
   "source": [
    "### 3.4 (4 pt)\n",
    "\n",
    "/Discuss:/ The time has come to give your final recommendation on the use of LMs in education to the government! Taking into account everything you analyzed in all the preceding tasks (1, 2, and 3), please write a short recommendation consisting of 4 bullet points discussing your concerns.\n",
    "\n",
    "**hint**\n",
    "- Try to use the MECE framework: _Mutually Exclusive Collectively Exhaustive_"
   ]
  },
  {
   "cell_type": "markdown",
   "id": "434a5fa5",
   "metadata": {},
   "source": [
    "/Discuss:/\n",
    "1. \n",
    "\n",
    "2. \n",
    "\n",
    "3. \n",
    "\n",
    "4. "
   ]
  }
 ],
 "metadata": {
  "kernelspec": {
   "display_name": "Python 3 (ipykernel)",
   "language": "python",
   "name": "python3"
  },
  "language_info": {
   "codemirror_mode": {
    "name": "ipython",
    "version": 3
   },
   "file_extension": ".py",
   "mimetype": "text/x-python",
   "name": "python",
   "nbconvert_exporter": "python",
   "pygments_lexer": "ipython3",
   "version": "3.11.9"
  }
 },
 "nbformat": 4,
 "nbformat_minor": 5
}
